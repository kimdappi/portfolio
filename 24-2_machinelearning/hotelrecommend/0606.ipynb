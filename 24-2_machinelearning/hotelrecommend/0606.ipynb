{
 "cells": [
  {
   "cell_type": "code",
   "execution_count": 119,
   "id": "9963c43b-f96b-490d-b42a-c31db3b531f2",
   "metadata": {},
   "outputs": [],
   "source": [
    "import nltk\n",
    "from nltk.corpus import stopwords\n",
    "from nltk.tokenize import word_tokenize\n",
    "from nltk.corpus import stopwords\n",
    "import pandas as pd"
   ]
  },
  {
   "cell_type": "code",
   "execution_count": 120,
   "id": "39374955-fd15-417b-b919-935af4d56198",
   "metadata": {},
   "outputs": [
    {
     "name": "stderr",
     "output_type": "stream",
     "text": [
      "[nltk_data] Downloading package stopwords to /Users/nohyeon-\n",
      "[nltk_data]     eun/nltk_data...\n",
      "[nltk_data]   Package stopwords is already up-to-date!\n",
      "[nltk_data] Downloading package punkt to /Users/nohyeon-\n",
      "[nltk_data]     eun/nltk_data...\n",
      "[nltk_data]   Package punkt is already up-to-date!\n"
     ]
    },
    {
     "data": {
      "text/plain": [
       "True"
      ]
     },
     "execution_count": 120,
     "metadata": {},
     "output_type": "execute_result"
    }
   ],
   "source": [
    "nltk.download('stopwords')\n",
    "nltk.download('punkt')"
   ]
  },
  {
   "cell_type": "code",
   "execution_count": 121,
   "id": "2d1fa95b-88e2-4d41-885d-37b570280ca0",
   "metadata": {},
   "outputs": [],
   "source": [
    "# NLTK 불용어 리스트 불러오기\n",
    "stopword_lst = stopwords.words('english')"
   ]
  },
  {
   "cell_type": "code",
   "execution_count": 122,
   "id": "3900d82c-220a-4e30-967e-a47800495f6d",
   "metadata": {},
   "outputs": [],
   "source": [
    "# 파일 경로 설정\n",
    "file_path = 'dictt.txt'\n",
    "\n",
    "# 파일 열기 및 읽기\n",
    "with open(file_path, 'r', encoding='utf-8') as file:\n",
    "    text_content = file.read()"
   ]
  },
  {
   "cell_type": "code",
   "execution_count": 123,
   "id": "14f6fcc4-5dde-46ea-961a-ba806134e2eb",
   "metadata": {},
   "outputs": [],
   "source": [
    "new_stopwords = text_content.split()"
   ]
  },
  {
   "cell_type": "code",
   "execution_count": 124,
   "id": "203c55d7-98c5-4752-88d4-242aff94f465",
   "metadata": {},
   "outputs": [],
   "source": [
    "stopword_lst.extend(new_stopwords)"
   ]
  },
  {
   "cell_type": "code",
   "execution_count": 125,
   "id": "24facfef-0ab1-4ab1-a3e4-86f4a8150d75",
   "metadata": {},
   "outputs": [
    {
     "name": "stdout",
     "output_type": "stream",
     "text": [
      "['i', 'me', 'my', 'myself', 'we', 'our', 'ours', 'ourselves', 'you', \"you're\", \"you've\", \"you'll\", \"you'd\", 'your', 'yours', 'yourself', 'yourselves', 'he', 'him', 'his', 'himself', 'she', \"she's\", 'her', 'hers', 'herself', 'it', \"it's\", 'its', 'itself', 'they', 'them', 'their', 'theirs', 'themselves', 'what', 'which', 'who', 'whom', 'this', 'that', \"that'll\", 'these', 'those', 'am', 'is', 'are', 'was', 'were', 'be', 'been', 'being', 'have', 'has', 'had', 'having', 'do', 'does', 'did', 'doing', 'a', 'an', 'the', 'and', 'but', 'if', 'or', 'because', 'as', 'until', 'while', 'of', 'at', 'by', 'for', 'with', 'about', 'against', 'between', 'into', 'through', 'during', 'before', 'after', 'above', 'below', 'to', 'from', 'up', 'down', 'in', 'out', 'on', 'off', 'over', 'under', 'again', 'further', 'then', 'once', 'here', 'there', 'when', 'where', 'why', 'how', 'all', 'any', 'both', 'each', 'few', 'more', 'most', 'other', 'some', 'such', 'no', 'nor', 'not', 'only', 'own', 'same', 'so', 'than', 'too', 'very', 's', 't', 'can', 'will', 'just', 'don', \"don't\", 'should', \"should've\", 'now', 'd', 'll', 'm', 'o', 're', 've', 'y', 'ain', 'aren', \"aren't\", 'couldn', \"couldn't\", 'didn', \"didn't\", 'doesn', \"doesn't\", 'hadn', \"hadn't\", 'hasn', \"hasn't\", 'haven', \"haven't\", 'isn', \"isn't\", 'ma', 'mightn', \"mightn't\", 'mustn', \"mustn't\", 'needn', \"needn't\", 'shan', \"shan't\", 'shouldn', \"shouldn't\", 'wasn', \"wasn't\", 'weren', \"weren't\", 'won', \"won't\", 'wouldn', \"wouldn't\", 'good', 'like', 'friendly', 'location', 'staff', 'clean', 'nice', 'great', 'time', 'next', 'use', 'really', 'bit', 'seoul', 'also', 'would', 'go', 'satisfied', 'small', 'will', 'stayed', 'Hotels', 'hotel', 'room', 'think', 'well', 'even', 'myeongdong', 'floor', 'right', 'many', 'one', 'lot', 'night', 'first', 'around', 'best', 'day', 'everything', 'recommend', 'easy', 'didnt', 'little', 'overall', 'area', '2', 'people', 'dont', 'used', 'want', 'able', 'old', 'wasnt', 'went', 'made', 'much', 'come', 'door', '3', 'two', 'away', 'perfect', 'better', 'us', 'need', 'back', 'hotels', 'okay', 'every', 'although', 'provided', 'take', 'check', 'definitely', 'minutes', 'city', 'felt', 'nights', 'feel', 'it’s', 'quite', 'recommended', 'space', 'liked', 'smell', 'exit', 'still', 'excellent', 'see', 'im', 'noise', 'enough', 'though', 'free', 'disappointing', '5', 'far', 'air', 'checkin', 'without', '1', 'days', 'always', 'said', 'theres', 'highly', 'thank', 'bad', 'gangnam', 'couldnt', 'building', 'came', 'open', 'size', 'stop', 'using', 'places', '4', 'thought', 'difficult', 'outside', 'going', 'available', 'cold', 'asked', 'lobby', 'hair', 'late', 'long', 'window', 'seems', 'hot', 'hongdae', 'thing', 'due', 'pretty', 'dust', 'within', 'friends', 'high', 'expected', 'booked', 'plan', 'hear', 'satisfactory', 'won', 'korea', 'especially', 'know', 'make', 'inconvenient', 'love', 'center', 'except', 'checked', 'hygiene', 'may', 'noisy', 'making', 'got', 'took', 'line', 'machine', 'please', 'etc', 'things', 'road', 'inside', 'access', 'sound', 'main', 'left', 'super', 'often', 'warm', 'feels', '10', 'person', 'haha', 'coex', 'motel', 'easily', 'problem', 'looking', 'entrance', 'lotte', 'guests', 'hard', 'simple', 'seemed', 'worth', 'cant', 'middle', 'enjoyed', 'speak', 'checkout', 'way', 'pay', 'short', 'doesnt', 'different', 'found', 'enjoy', 'double', 'pleasant', 'compared', 'gave', 'ill', 'second', 'bring', 'say', 'something', 'times', 'experience', 'korean', 'told', 'uncomfortable', 'including', 'surrounding', 'wanted', 'another', 'narrow', 'change', 'looked', 'across', 'reviews', 'provide', 'quality', 'heating', 'separate', 'mins', 'side', 'nothing', 'public', 'needed', 'leave', 'dongdaemun', 'put', 'strong', 'coming', 'hall', 'paid', 'checking', 'ask', 'changed', 'ive', 'sure', 'pressure', 'visited', 'chose', 'level', 'lots', 'thanks', 'three', 'move', 'twin', 'happy', 'less', 'last', 'soft', 'look', 'considering', 'several', 'surprised', 'temperature', 'ok', 'opened', 'body', 'youre', 'agoda', 'design', 'tower', 'give', 'choice', 'arrived', 'friend', 'almost', 'looks', 'worried', 'wish', 'helped', 'amazing', 'lounge', 'plenty', 'connected', 'anything', 'fine', 'kindly', 'advance', 'full', 'fun', 'home', 'minute', 'taking', 'year', 'inconvenience', 'toothpaste', 'turn', 'phone', 'buy', 'dirty', 'called', 'suitable', 'low', 'turned', 'basement', 'alley', 'takes', 'hostel', 'choose', 'end', 'winter', 'needs', 'everyone', 'namsan', 'kept', 'soon', 'relatively', 'perhaps', 'oclock', 'keep', 'environment', '7', 'counter', 'might', 'response', 'seem', 'loud', 'number', 'hallway', '6', 'attention', 'loved', 'areas', 'card', 'never', 'hours', 'disappointed', 'saw', 'rather', 'smelled', 'young', 'windows', 'evening', 'house', 'hope', 'per', 'visiting', 'advantage', 'chance', 'poor', 'top', 'sheets', 'suite', 'shilla', 'grateful', 'tried', 'directly', 'note', 'hour', 'dark', 'smaller', 'closed', 'don’t', 'stains', 'included', 'possible', 'call', 'must', 'maintained', 'key', 'items', 'getting', 'part', 'extra', 'entered', 'sensitive', 'fact', 'requested', 'namdaemun', 'isnt', 'guest', 'wait', 'particular', 'future', 'relax', 'special', 'slightly', 'expectations', 'try', 'daily', 'palace', 'expect', 'point', 'busy', 'properly', 'equipped', 'corner', 'heard', 'slippers', 'limousine', 'thats', 'shame', 'owner', 'variety', 'behind', 'actually', 'responded', 'done', 'mind', 'han', 'course', 'opposite', 'someone', 'hongik', 'control', 'smells', 'clothes', 'euljiro', 'spend', '9', 'assigned', 'received', 'given', 'makes', 'built', 'customer', 'probably', 'min', 'anywhere', 'instead', 'set', 'various', 'construction', 'already', 'maybe', 'cool', 'district', 'wall', 'comes', 'watch', 'glass', 'extremely', 'wonderful', 'downstairs', 'floors', 'heart', '8', 'wet', 'incheon', 'disposable', 'member', 'upgraded', 'intend', 'cheaper', 'housekeeping', 'underground', 'anyway', 'star', 'plus', 'local', 'name', 'terms', 'fantastic', 'booking', 'brought', '12', 'major', 'information', 'u', 'problems', 'saying', 'order', 'drain', 'carry', 'wont', 'living', 'type', 'trash', 'female', 'among', 'now', 'werent', '15', 'least', 'reason', 'delivery', 'impressed', 'generally', 'leaving', 'lines', 'employee', 'triple', 'consider', 'everyday', 'tell', 'stuffy', 'group', 'personally', 'issue', 'employees', 'completely', 'wouldnt', 'mold', 'satisfaction', 'customers', 'live', 'review', 'menu', 'spoke', 'four', 'anyone', 'gimpo', 'idea', 'case', 'ewha', 'feeling', '100', 'twice', 'reach', 'bottles', 'worry', 'enter', 'sofa', 'matter', 'either', 'fully', 'fan', 'upgrade', 'decided', 'storage', 'inconveniences', 'valet', 'cheonggyecheon', 'important', 'improved', '24', 'return', 'mattress', '30', 'woke', 'sinchon', 'weather', 'talking', 'lacking', 'fast', 'n', 'similar', 'concert', 'whole', 'requests', 'outlet', 'via', 'dusty', 'guess', 'summer', 'manager', 'prepared', 'walls', 'range', 'heavy', '3rd', 'curtain', 'willing', 'insadong', 'paper', 'fried', 'guesthouse', 'boss', 'allowed', 'later', 'hang', 'head', 'didn’t', 'waiting', 'along', 'everywhere', 'awesome', 'recently', 'id', 'gwanghwamun', 'wedding', '5minute', 'years', 'hand', 'famous', 'there’s', 'steps', 'hyundai', 'embarrassed', 'higher', 'sometimes', 'bags', 'stars', 'stays', 'lack', 'jongno', 'together', 'streets', 'coronavirus', 'usually', 'limited', 'remote', 'play', 'glad', 'upon', 'drawback', 'common', 'gwangjang', 'discount', 'welcome', 'pick', 'others', 'whether', 'myeondong', 'receive', 'motels', 'male', 'cute', 'face', 'let', 'fitness', 'ate', 'ways', 'addition', 'yeoksam', 'schedule', 'strange', 'performance', 'separately', 'enjoyable', 'weak', 'tired', 'immediately', 'hurry', 'points', 'contact', 'somewhere', 'personal', 'neighborhood', 'yet', 'lady', 'daughter', 'questions', 'ended', 'chungmuro', 'guro', 'pros', 'separated', 'broken', 'seen', 'acceptable', '2nd', 'adults', 'beside', 'truly', 'ceiling', 'throughout', 'previous', 'arent', 'season', 'entire', 'remember', 'dong', 'residence', 'photo', 'issues', 'jamsil', '20', 'absolutely', 'trouble', 'pm', 'white', 'older', 'apartment', 'school', 'suddenly', 'moved', 'straight', 'impression', 'mini', 'running', 'thinking', '10000', 'clear', 'mrt', 'king', 'clearly', 'option', 'budget', 'cover', '711', 'inn', 'served', 'moving', 'whenever', 'particularly', 'bottled', 'spent', 'improve', 'despite', 'ready', 'bought', 'spots', 'lol', 'provides', 'sufficient', 'birthday', 'oh', 'unless', 'met', 'women', 'unfriendly', 'lower', 'garosugil', 'moment', 'photos', 'management', 'cathedral', 'run', 'opening', 'greeted', 'multiple', 'supplies', 'spread', 'fit', 'branch', 'meet', 'annoying', '11', 'arrive', 'commercial', 'memories', 'hapjeong', 'fresh', 'cu', '1st', 'necessary', 'gyeongbokgung', 'cramped', 'slow', 'unpleasant', 'replaced', 'prepare', 'improvement', 'i’m', 'iron', 'gets', 'woman', 'property', 'olive', 'email', 'longer', 'samseong', 'sign', 'speaks', 'wonder', 'power', 'lost', 'youll', 'situation', 'slight', 'ground', 'products', 'smile', 'bother', 'outdoor', 'surrounded', 'empty', 'catch', 'bugs', 'ago', 'general', 'stuff', 'sorry', 'transfer', 'process', 'thin', 'start', 'trying', 'talk', 'hill', 'pictures', 'heated', 'explore', 'yangjae', 'ac', 'half', 'worst', 'offer', 'life', 'advantages', 'playing', 'black', 'deal', 'yeouido', 'sinsa', 'washed', 'third', 'intention', 'carefully', 'renovated', 'paying', 'sit', 'concerned', 'coin', '10minute', 'site', 'exploring', 'strategic', 'dongmyo', 'unfortunately', 'lodging', 'exterior', 'cons', 'past', '4th', 'weekday', 'bottle', 'toast', 'ㅠㅠ', 'weekends', 'man', 'aspects', 'drop', 'members', 'neatly', 'complaints', 'sent', 'somewhat', 'types', 'ones', 'pity', 'box', 'mother', 'green', 'basically', 'stand', 'literally', 'confused', 'rating', 'giving', 'responsive', 'doors', 'makeup', 'worn', 'hairs', 'fortunately', 'noises', 'upstairs', 'fell', 'treated', 'fixed', 'samsung', 'choices', 'layout', 'spot', 'explained', 'buildings', 'waste', 'traveller', 'contacted', 'sense', 'normal', 'answer', 'priced', 'parts', 'goodthe', 'taken', 'throw', 'countryside', 'continue', 'break', 'western', 'yeongdeungpo', 'skin', 'informed', 'private', 'adjust', 'gown', 'cross', 'period', 'grand', 'consideration', 'goes', 'finding', 'wear', 'wise', 'mr', 'bb', 'guidance', 'training', 'facing', 'speaking', 'meeting', 'month', 'purpose', 'considerate', 'notice', 'offered', 'difference', 'respond', 'allow', 'heat', 'self', 'earlier', 'ride', 'step', 'exam', '23', 'son', 'maintenance', 'wind', 'channels', 'hassle', 'shoes', 'asking', 'complain', 'soso', 'midnight', 'regret', 'impressive', 'worse', 'machines', 'efficient', 'dome', 'happened', 'covered', 'directions', 'appropriate', 'busan', 'stopped', 'reading', 'ordered', 'music', 'smooth', 'rate', 'details', 'degrees', 'musty', 'placed', 'stuck', 'rent', 'womans', 'direct', 'oneday', 'forgot', 'situated', 'surprisingly', 'courteous', 'returned', 'myeong', 'useful', 'starting', 'duplex', 'sillim', 'prefer', 'exactly', 'can’t', 'changing', 'peak', 'plastic', 'designed', 'smart', 'screen', 'knew', 'read', 'wrong', 'welcoming', 'outdated', 'password', 'scary', 'onenight', 'mapo', 'shinnonhyeon', 'sky', 'show', 'fairly', 'says', 'mosquitoes', 'studio', 'ambiguous', 'yes', 'tiny']\n"
     ]
    }
   ],
   "source": [
    "print(stopword_lst)"
   ]
  },
  {
   "cell_type": "code",
   "execution_count": 126,
   "id": "987f1831-4fe6-4680-af9c-4a0cc6394655",
   "metadata": {},
   "outputs": [],
   "source": [
    "# 데이터 불러오기\n",
    "df = pd.read_csv('ready.csv')"
   ]
  },
  {
   "cell_type": "code",
   "execution_count": 127,
   "id": "27c0c944-be02-43a9-b5c8-e3749db1a3c3",
   "metadata": {},
   "outputs": [
    {
     "data": {
      "text/html": [
       "<div>\n",
       "<style scoped>\n",
       "    .dataframe tbody tr th:only-of-type {\n",
       "        vertical-align: middle;\n",
       "    }\n",
       "\n",
       "    .dataframe tbody tr th {\n",
       "        vertical-align: top;\n",
       "    }\n",
       "\n",
       "    .dataframe thead th {\n",
       "        text-align: right;\n",
       "    }\n",
       "</style>\n",
       "<table border=\"1\" class=\"dataframe\">\n",
       "  <thead>\n",
       "    <tr style=\"text-align: right;\">\n",
       "      <th></th>\n",
       "      <th>Unnamed: 0</th>\n",
       "      <th>hotel</th>\n",
       "      <th>review</th>\n",
       "    </tr>\n",
       "  </thead>\n",
       "  <tbody>\n",
       "    <tr>\n",
       "      <th>0</th>\n",
       "      <td>0</td>\n",
       "      <td>호텔안테룸서울</td>\n",
       "      <td>The toilet and shower room were very clean The...</td>\n",
       "    </tr>\n",
       "    <tr>\n",
       "      <th>1</th>\n",
       "      <td>1</td>\n",
       "      <td>호텔안테룸서울</td>\n",
       "      <td>All staff were very patient friendly and had g...</td>\n",
       "    </tr>\n",
       "    <tr>\n",
       "      <th>2</th>\n",
       "      <td>2</td>\n",
       "      <td>호텔안테룸서울</td>\n",
       "      <td>All staff are very friendly There are also sta...</td>\n",
       "    </tr>\n",
       "    <tr>\n",
       "      <th>3</th>\n",
       "      <td>3</td>\n",
       "      <td>호텔안테룸서울</td>\n",
       "      <td>The accommodation is so clean and spotlessI wa...</td>\n",
       "    </tr>\n",
       "    <tr>\n",
       "      <th>4</th>\n",
       "      <td>4</td>\n",
       "      <td>호텔안테룸서울</td>\n",
       "      <td>The room felt smaller than expected but the vi...</td>\n",
       "    </tr>\n",
       "  </tbody>\n",
       "</table>\n",
       "</div>"
      ],
      "text/plain": [
       "   Unnamed: 0    hotel                                             review\n",
       "0           0  호텔안테룸서울  The toilet and shower room were very clean The...\n",
       "1           1  호텔안테룸서울  All staff were very patient friendly and had g...\n",
       "2           2  호텔안테룸서울  All staff are very friendly There are also sta...\n",
       "3           3  호텔안테룸서울  The accommodation is so clean and spotlessI wa...\n",
       "4           4  호텔안테룸서울  The room felt smaller than expected but the vi..."
      ]
     },
     "execution_count": 127,
     "metadata": {},
     "output_type": "execute_result"
    }
   ],
   "source": [
    "df.head()"
   ]
  },
  {
   "cell_type": "code",
   "execution_count": 128,
   "id": "12210ac3-40f1-4453-8c4e-88f2dd292c68",
   "metadata": {},
   "outputs": [],
   "source": [
    "df = df.apply(lambda col: col.map(lambda s: s.lower() if type(s) == str else s))"
   ]
  },
  {
   "cell_type": "code",
   "execution_count": 129,
   "id": "15fba67c-546b-4b37-81e6-ddf3f6d689ac",
   "metadata": {},
   "outputs": [
    {
     "data": {
      "text/html": [
       "<div>\n",
       "<style scoped>\n",
       "    .dataframe tbody tr th:only-of-type {\n",
       "        vertical-align: middle;\n",
       "    }\n",
       "\n",
       "    .dataframe tbody tr th {\n",
       "        vertical-align: top;\n",
       "    }\n",
       "\n",
       "    .dataframe thead th {\n",
       "        text-align: right;\n",
       "    }\n",
       "</style>\n",
       "<table border=\"1\" class=\"dataframe\">\n",
       "  <thead>\n",
       "    <tr style=\"text-align: right;\">\n",
       "      <th></th>\n",
       "      <th>Unnamed: 0</th>\n",
       "      <th>hotel</th>\n",
       "      <th>review</th>\n",
       "    </tr>\n",
       "  </thead>\n",
       "  <tbody>\n",
       "    <tr>\n",
       "      <th>0</th>\n",
       "      <td>0</td>\n",
       "      <td>호텔안테룸서울</td>\n",
       "      <td>the toilet and shower room were very clean the...</td>\n",
       "    </tr>\n",
       "    <tr>\n",
       "      <th>1</th>\n",
       "      <td>1</td>\n",
       "      <td>호텔안테룸서울</td>\n",
       "      <td>all staff were very patient friendly and had g...</td>\n",
       "    </tr>\n",
       "    <tr>\n",
       "      <th>2</th>\n",
       "      <td>2</td>\n",
       "      <td>호텔안테룸서울</td>\n",
       "      <td>all staff are very friendly there are also sta...</td>\n",
       "    </tr>\n",
       "    <tr>\n",
       "      <th>3</th>\n",
       "      <td>3</td>\n",
       "      <td>호텔안테룸서울</td>\n",
       "      <td>the accommodation is so clean and spotlessi wa...</td>\n",
       "    </tr>\n",
       "    <tr>\n",
       "      <th>4</th>\n",
       "      <td>4</td>\n",
       "      <td>호텔안테룸서울</td>\n",
       "      <td>the room felt smaller than expected but the vi...</td>\n",
       "    </tr>\n",
       "  </tbody>\n",
       "</table>\n",
       "</div>"
      ],
      "text/plain": [
       "   Unnamed: 0    hotel                                             review\n",
       "0           0  호텔안테룸서울  the toilet and shower room were very clean the...\n",
       "1           1  호텔안테룸서울  all staff were very patient friendly and had g...\n",
       "2           2  호텔안테룸서울  all staff are very friendly there are also sta...\n",
       "3           3  호텔안테룸서울  the accommodation is so clean and spotlessi wa...\n",
       "4           4  호텔안테룸서울  the room felt smaller than expected but the vi..."
      ]
     },
     "execution_count": 129,
     "metadata": {},
     "output_type": "execute_result"
    }
   ],
   "source": [
    "df.head()"
   ]
  },
  {
   "cell_type": "code",
   "execution_count": 130,
   "id": "28c28a73-26bc-4c13-ba93-c7bc2b60b80f",
   "metadata": {},
   "outputs": [],
   "source": [
    "text_column = 'review' "
   ]
  },
  {
   "cell_type": "code",
   "execution_count": 131,
   "id": "6a61ff6e-bb71-4ba2-901a-20684a22fa8d",
   "metadata": {},
   "outputs": [],
   "source": [
    "def tokenize_and_remove_stopwords(text):\n",
    "    # 텍스트를 토큰화\n",
    "    tokens = word_tokenize(text)\n",
    "    # 불용어 제거\n",
    "    stop_words = stopword_lst\n",
    "    filtered_tokens = [word for word in tokens if word.lower() not in stop_words]\n",
    "    return filtered_tokens"
   ]
  },
  {
   "cell_type": "code",
   "execution_count": 132,
   "id": "58426ea4-431c-4387-95c7-84a11cf3107e",
   "metadata": {},
   "outputs": [],
   "source": [
    "df['tokenized_text'] = df[text_column].apply(tokenize_and_remove_stopwords)"
   ]
  },
  {
   "cell_type": "code",
   "execution_count": 133,
   "id": "8125cef8-41d9-4aa7-826b-364d93802737",
   "metadata": {},
   "outputs": [
    {
     "name": "stdout",
     "output_type": "stream",
     "text": [
      "0        [toilet, shower, bathroom, ventilation, system...\n",
      "1                  [patient, english, skills, help, solve]\n",
      "2        [japanese, rest, assured, view, pajamas, laund...\n",
      "3        [accommodation, spotlessi, stay, big, needin, ...\n",
      "4                          [view, terrace, cozy, interior]\n",
      "                               ...                        \n",
      "64989                         [safe, stay, station, close]\n",
      "64990    [airport, nearby, accommodation, airport, bus,...\n",
      "64991     [close, airport, amenities, convenient, laundry]\n",
      "64992                                               [rest]\n",
      "64993                                  [amenities, nearby]\n",
      "Name: tokenized_text, Length: 64994, dtype: object\n"
     ]
    }
   ],
   "source": [
    "print(df['tokenized_text'])"
   ]
  },
  {
   "cell_type": "code",
   "execution_count": 134,
   "id": "8c352e79-bac1-4f36-bdd7-91a75a91364d",
   "metadata": {},
   "outputs": [],
   "source": [
    "df.to_csv('tokenized_data.csv', index=False)"
   ]
  },
  {
   "cell_type": "code",
   "execution_count": null,
   "id": "fab27437-1405-406a-b7a0-b3610002e94b",
   "metadata": {},
   "outputs": [],
   "source": []
  }
 ],
 "metadata": {
  "kernelspec": {
   "display_name": "Python 3 (ipykernel)",
   "language": "python",
   "name": "python3"
  },
  "language_info": {
   "codemirror_mode": {
    "name": "ipython",
    "version": 3
   },
   "file_extension": ".py",
   "mimetype": "text/x-python",
   "name": "python",
   "nbconvert_exporter": "python",
   "pygments_lexer": "ipython3",
   "version": "3.11.7"
  }
 },
 "nbformat": 4,
 "nbformat_minor": 5
}
